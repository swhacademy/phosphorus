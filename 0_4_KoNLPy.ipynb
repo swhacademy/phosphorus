{
  "nbformat": 4,
  "nbformat_minor": 0,
  "metadata": {
    "colab": {
      "name": "0_4_KoNLPy.ipynb",
      "provenance": [],
      "collapsed_sections": [],
      "toc_visible": true,
      "include_colab_link": true
    },
    "kernelspec": {
      "name": "python3",
      "display_name": "Python 3"
    },
    "accelerator": "GPU"
  },
  "cells": [
    {
      "cell_type": "markdown",
      "metadata": {
        "id": "view-in-github",
        "colab_type": "text"
      },
      "source": [
        "<a href=\"https://colab.research.google.com/github/swhacademy/swhacademy.github.com/blob/master/0_4_KoNLPy.ipynb\" target=\"_parent\"><img src=\"https://colab.research.google.com/assets/colab-badge.svg\" alt=\"Open In Colab\"/></a>"
      ]
    },
    {
      "cell_type": "markdown",
      "metadata": {
        "id": "mSbVnBRob9UK",
        "colab_type": "text"
      },
      "source": [
        "# 참고 사이트\n",
        "\n",
        "\n",
        "*   https://github.com/KoNLPy/KoNLPy\n",
        "*   http://KoNLPy.org/ko/latest/\n",
        "*   https://konlpy-ko.readthedocs.io/ko/v0.5.1/morph/"
      ]
    },
    {
      "cell_type": "markdown",
      "metadata": {
        "id": "BH4ZDxAvbuCi",
        "colab_type": "text"
      },
      "source": [
        "# KoNLPy\n",
        "\n",
        "\n",
        "*   한글 형태소 분석을 위한 파이썬 패키지\n",
        "\n",
        "\n",
        "> ### 형태소 분석\n",
        ">> 언어를 가장 최소단위인 형태소로 분석하여 어근, 접두사/접미사, 각종 품사들을 통해 구조를 파악\n",
        "\n",
        "> ### 자연어 처리\n",
        ">> 인간의 언어를 컴퓨터와 같은 기계를 이용하여 흉내낼 수 있도록 연구하고 구현하는 인공지능의 분야\n",
        "\n",
        "*   아래의 형태소 분석을 위한 라이브러리를 모두 포함\n",
        "\n",
        "> * Hannanum: 한나눔 http://semanticweb.kaist.ac.kr/hannanum/\n",
        "> * Kkma: 꼬꼬마. http://kkma.snu.ac.kr/\n",
        "> * Mecab: 메카브. https://bitbucket.org/eunjeon/mecab-ko\n",
        "> * Komoran: 코모란. https://github.com/shin285/KOMORAN\n",
        "> * Open Korean Text: 오픈 소스 한국어 분석기(previous Twitter). https://github.com/open-korean-text/open-korean-text\n",
        "\n",
        "![성능비교](https://konlpy-ko.readthedocs.io/ko/v0.5.1/_images/time.png)"
      ]
    },
    {
      "cell_type": "markdown",
      "metadata": {
        "id": "yQ4hLYfeB6vY",
        "colab_type": "text"
      },
      "source": [
        "## KoNLPy 설치\n",
        "[Mecab 설치](https://colab.research.google.com/drive/1ny8AKkcuocsm8A45xHfI05OsqLqSEHjd)"
      ]
    },
    {
      "cell_type": "code",
      "metadata": {
        "id": "ij9SqLeEFRa4",
        "colab_type": "code",
        "colab": {}
      },
      "source": [
        "!pip install konlpy\n",
        "!apt-get install openjdk-8-jdk-headless -qq > /dev/null\n",
        "!pip3 install JPype1-py3\n",
        "\n",
        "import os\n",
        "os.chdir('/tmp/')\n",
        "!curl -LO https://bitbucket.org/eunjeon/mecab-ko/downloads/mecab-0.996-ko-0.9.1.tar.gz\n",
        "!tar zxfv mecab-0.996-ko-0.9.1.tar.gz\n",
        "os.chdir('/tmp/mecab-0.996-ko-0.9.1')\n",
        "!./configure\n",
        "!make\n",
        "!make check\n",
        "!make install\n",
        "!apt-get install automake\n",
        "\n",
        "import os\n",
        "os.chdir('/tmp/')\n",
        "!wget -O m4-1.4.9.tar.gz http://ftp.gnu.org/gnu/m4/m4-1.4.9.tar.gz\n",
        "!tar -zvxf m4-1.4.9.tar.gz\n",
        "os.chdir('/tmp/m4-1.4.9')\n",
        "!./configure\n",
        "!make\n",
        "!make install\n",
        "!apt-get install autoconf\n",
        "\n",
        "import os\n",
        "os.chdir('/tmp')\n",
        "!curl -LO https://bitbucket.org/eunjeon/mecab-ko-dic/downloads/mecab-ko-dic-2.0.1-20150920.tar.gz\n",
        "!tar -zxvf mecab-ko-dic-2.0.1-20150920.tar.gz\n",
        "os.chdir('/tmp/mecab-ko-dic-2.0.1-20150920')\n",
        "!./autogen.sh\n",
        "!./configure\n",
        "!make\n",
        "# !sh -c 'echo \"dicdir=/usr/local/lib/mecab/dic/mecab-ko-dic\" > /usr/local/etc/mecabrc'\n",
        "!make install\n",
        "\n",
        "os.chdir('/tmp/mecab-ko-dic-2.0.1-20150920')\n",
        "!ldconfig\n",
        "!ldconfig -p | grep /usr/local/lib\n",
        "\n",
        "# install mecab-python\n",
        "import os\n",
        "os.chdir('/content')\n",
        "\n",
        "!git clone https://bitbucket.org/eunjeon/mecab-python-0.996.git\n",
        "os.chdir('/content/mecab-python-0.996')\n",
        "\n",
        "!python3 setup.py build\n",
        "!python3 setup.py install"
      ],
      "execution_count": 0,
      "outputs": []
    },
    {
      "cell_type": "code",
      "metadata": {
        "id": "yhmijgavUZR7",
        "colab_type": "code",
        "colab": {}
      },
      "source": [
        "from konlpy.tag import Mecab\n",
        "from konlpy.tag import Hannanum\n",
        "from konlpy.tag import Kkma\n",
        "mecab = Mecab()\n",
        "hannanum = Hannanum()\n",
        "kkma = Kkma()"
      ],
      "execution_count": 0,
      "outputs": []
    },
    {
      "cell_type": "markdown",
      "metadata": {
        "id": "vfyI1fW1UBcX",
        "colab_type": "text"
      },
      "source": [
        "## KoNLPy 예제 말뭉치\n",
        "\n",
        "\n",
        "*   대한민국 헌법 말뭉치인 kolaw와 국회법안 말뭉치인 kobill을 제공\n",
        "*   말뭉치가 포함하는 파일의 이름은 fields 메서드로 알 수 있고 open 메서드로 해당 파일의 텍스트을 읽어옴\n",
        "\n"
      ]
    },
    {
      "cell_type": "code",
      "metadata": {
        "id": "mOR-r-deMRm_",
        "colab_type": "code",
        "colab": {
          "base_uri": "https://localhost:8080/",
          "height": 34
        },
        "outputId": "bdbe92b5-9052-43ed-cb49-6e4244ff3750"
      },
      "source": [
        "from konlpy.corpus import kolaw\n",
        "kolaw.fileids()"
      ],
      "execution_count": 20,
      "outputs": [
        {
          "output_type": "execute_result",
          "data": {
            "text/plain": [
              "['constitution.txt']"
            ]
          },
          "metadata": {
            "tags": []
          },
          "execution_count": 20
        }
      ]
    },
    {
      "cell_type": "code",
      "metadata": {
        "id": "TmCmVFoBeWBD",
        "colab_type": "code",
        "colab": {
          "base_uri": "https://localhost:8080/",
          "height": 68
        },
        "outputId": "0f6f5b35-8060-489b-85ac-d7e83900d14f"
      },
      "source": [
        "c = kolaw.open('constitution.txt').read()\n",
        "print(c[:40])"
      ],
      "execution_count": 7,
      "outputs": [
        {
          "output_type": "stream",
          "text": [
            "대한민국헌법\n",
            "\n",
            "유구한 역사와 전통에 빛나는 우리 대한국민은 3·1운동으로\n"
          ],
          "name": "stdout"
        }
      ]
    },
    {
      "cell_type": "markdown",
      "metadata": {
        "id": "RD7azNzuVBMe",
        "colab_type": "text"
      },
      "source": [
        "## 명사 / 형태소 추출"
      ]
    },
    {
      "cell_type": "code",
      "metadata": {
        "id": "S1iA9j6AUoEg",
        "colab_type": "code",
        "colab": {
          "base_uri": "https://localhost:8080/",
          "height": 34
        },
        "outputId": "5c7fb329-6dd1-4f83-9e74-4629b7b310fb"
      },
      "source": [
        "mecab.nouns(c[:40]) # 명사"
      ],
      "execution_count": 8,
      "outputs": [
        {
          "output_type": "execute_result",
          "data": {
            "text/plain": [
              "['대한민국', '헌법', '역사', '전통', '우리', '국민', '운동']"
            ]
          },
          "metadata": {
            "tags": []
          },
          "execution_count": 8
        }
      ]
    },
    {
      "cell_type": "code",
      "metadata": {
        "id": "-yOBDgvtU87-",
        "colab_type": "code",
        "colab": {
          "base_uri": "https://localhost:8080/",
          "height": 34
        },
        "outputId": "c1b878b9-872f-4058-9429-32d7cfa5e906"
      },
      "source": [
        "hannanum.nouns(c[:40])"
      ],
      "execution_count": 9,
      "outputs": [
        {
          "output_type": "execute_result",
          "data": {
            "text/plain": [
              "['대한민국헌법', '유구', '역사', '전통', '빛', '우리', '대한국민', '3·1운동']"
            ]
          },
          "metadata": {
            "tags": []
          },
          "execution_count": 9
        }
      ]
    },
    {
      "cell_type": "code",
      "metadata": {
        "id": "13KF0jwZVKNe",
        "colab_type": "code",
        "colab": {
          "base_uri": "https://localhost:8080/",
          "height": 340
        },
        "outputId": "5022e3ac-6b6c-4aaf-a873-72875aa291c7"
      },
      "source": [
        "mecab.morphs(c[:40]) # 형태소"
      ],
      "execution_count": 10,
      "outputs": [
        {
          "output_type": "execute_result",
          "data": {
            "text/plain": [
              "['대한민국',\n",
              " '헌법',\n",
              " '유구',\n",
              " '한',\n",
              " '역사',\n",
              " '와',\n",
              " '전통',\n",
              " '에',\n",
              " '빛나',\n",
              " '는',\n",
              " '우리',\n",
              " '대한',\n",
              " '국민',\n",
              " '은',\n",
              " '3',\n",
              " '·',\n",
              " '1',\n",
              " '운동',\n",
              " '으로']"
            ]
          },
          "metadata": {
            "tags": []
          },
          "execution_count": 10
        }
      ]
    },
    {
      "cell_type": "code",
      "metadata": {
        "id": "AW9Ay5v0VNf-",
        "colab_type": "code",
        "colab": {
          "base_uri": "https://localhost:8080/",
          "height": 272
        },
        "outputId": "f72ba5d9-839e-46c9-f276-8c49093da084"
      },
      "source": [
        "hannanum.morphs(c[:40]) # 형태소"
      ],
      "execution_count": 11,
      "outputs": [
        {
          "output_type": "execute_result",
          "data": {
            "text/plain": [
              "['대한민국헌법',\n",
              " '유구',\n",
              " '하',\n",
              " 'ㄴ',\n",
              " '역사',\n",
              " '와',\n",
              " '전통',\n",
              " '에',\n",
              " '빛',\n",
              " '나는',\n",
              " '우리',\n",
              " '대한국민',\n",
              " '은',\n",
              " '3·1운동',\n",
              " '으로']"
            ]
          },
          "metadata": {
            "tags": []
          },
          "execution_count": 11
        }
      ]
    },
    {
      "cell_type": "markdown",
      "metadata": {
        "id": "DajWTU97VX0f",
        "colab_type": "text"
      },
      "source": [
        "## 품사 부착"
      ]
    },
    {
      "cell_type": "code",
      "metadata": {
        "id": "btVXUT-vVbtH",
        "colab_type": "code",
        "colab": {
          "base_uri": "https://localhost:8080/",
          "height": 340
        },
        "outputId": "6e8a370e-d09e-4431-b473-9f7dd3feb9c3"
      },
      "source": [
        "mecab.pos(c[:40]) # 품사"
      ],
      "execution_count": 12,
      "outputs": [
        {
          "output_type": "execute_result",
          "data": {
            "text/plain": [
              "[('대한민국', 'NNP'),\n",
              " ('헌법', 'NNG'),\n",
              " ('유구', 'XR'),\n",
              " ('한', 'XSA+ETM'),\n",
              " ('역사', 'NNG'),\n",
              " ('와', 'JC'),\n",
              " ('전통', 'NNG'),\n",
              " ('에', 'JKB'),\n",
              " ('빛나', 'VV'),\n",
              " ('는', 'ETM'),\n",
              " ('우리', 'NP'),\n",
              " ('대한', 'VV+ETM'),\n",
              " ('국민', 'NNG'),\n",
              " ('은', 'JX'),\n",
              " ('3', 'SN'),\n",
              " ('·', 'SC'),\n",
              " ('1', 'SN'),\n",
              " ('운동', 'NNG'),\n",
              " ('으로', 'JKB')]"
            ]
          },
          "metadata": {
            "tags": []
          },
          "execution_count": 12
        }
      ]
    },
    {
      "cell_type": "code",
      "metadata": {
        "id": "F0syKpeDVfW-",
        "colab_type": "code",
        "colab": {
          "base_uri": "https://localhost:8080/",
          "height": 272
        },
        "outputId": "07e69692-57fe-47cd-cc55-03fa2b356adb"
      },
      "source": [
        "hannanum.pos(c[:40]) # 품사"
      ],
      "execution_count": 13,
      "outputs": [
        {
          "output_type": "execute_result",
          "data": {
            "text/plain": [
              "[('대한민국헌법', 'N'),\n",
              " ('유구', 'N'),\n",
              " ('하', 'X'),\n",
              " ('ㄴ', 'E'),\n",
              " ('역사', 'N'),\n",
              " ('와', 'J'),\n",
              " ('전통', 'N'),\n",
              " ('에', 'J'),\n",
              " ('빛', 'N'),\n",
              " ('나는', 'J'),\n",
              " ('우리', 'N'),\n",
              " ('대한국민', 'N'),\n",
              " ('은', 'J'),\n",
              " ('3·1운동', 'N'),\n",
              " ('으로', 'J')]"
            ]
          },
          "metadata": {
            "tags": []
          },
          "execution_count": 13
        }
      ]
    },
    {
      "cell_type": "code",
      "metadata": {
        "id": "4r0CfU-2Vx1m",
        "colab_type": "code",
        "colab": {
          "base_uri": "https://localhost:8080/",
          "height": 748
        },
        "outputId": "add7c805-83c6-4e98-aaaa-f323a73e9d1d"
      },
      "source": [
        "mecab.tagset # 품사 정보"
      ],
      "execution_count": 14,
      "outputs": [
        {
          "output_type": "execute_result",
          "data": {
            "text/plain": [
              "{'EC': '연결 어미',\n",
              " 'EF': '종결 어미',\n",
              " 'EP': '선어말어미',\n",
              " 'ETM': '관형형 전성 어미',\n",
              " 'ETN': '명사형 전성 어미',\n",
              " 'IC': '감탄사',\n",
              " 'JC': '접속 조사',\n",
              " 'JKB': '부사격 조사',\n",
              " 'JKC': '보격 조사',\n",
              " 'JKG': '관형격 조사',\n",
              " 'JKO': '목적격 조사',\n",
              " 'JKQ': '인용격 조사',\n",
              " 'JKS': '주격 조사',\n",
              " 'JKV': '호격 조사',\n",
              " 'JX': '보조사',\n",
              " 'MAG': '일반 부사',\n",
              " 'MAJ': '접속 부사',\n",
              " 'MM': '관형사',\n",
              " 'NNB': '의존 명사',\n",
              " 'NNBC': '단위를 나타내는 명사',\n",
              " 'NNG': '일반 명사',\n",
              " 'NNP': '고유 명사',\n",
              " 'NP': '대명사',\n",
              " 'NR': '수사',\n",
              " 'SC': '구분자 , · / :',\n",
              " 'SE': '줄임표 …',\n",
              " 'SF': '마침표, 물음표, 느낌표',\n",
              " 'SH': '한자',\n",
              " 'SL': '외국어',\n",
              " 'SN': '숫자',\n",
              " 'SSC': '닫는 괄호 ), ]',\n",
              " 'SSO': '여는 괄호 (, [',\n",
              " 'SY': '기타 기호',\n",
              " 'VA': '형용사',\n",
              " 'VCN': '부정 지정사',\n",
              " 'VCP': '긍정 지정사',\n",
              " 'VV': '동사',\n",
              " 'VX': '보조 용언',\n",
              " 'XPN': '체언 접두사',\n",
              " 'XR': '어근',\n",
              " 'XSA': '형용사 파생 접미사',\n",
              " 'XSN': '명사파생 접미사',\n",
              " 'XSV': '동사 파생 접미사'}"
            ]
          },
          "metadata": {
            "tags": []
          },
          "execution_count": 14
        }
      ]
    },
    {
      "cell_type": "code",
      "metadata": {
        "id": "VUzK7na2WHLl",
        "colab_type": "code",
        "colab": {
          "base_uri": "https://localhost:8080/",
          "height": 1000
        },
        "outputId": "cfe7912c-cb7b-4bad-9391-e0f2dc9979c0"
      },
      "source": [
        "import pandas as pd\n",
        "tagsets = pd.DataFrame()\n",
        "N = 50\n",
        "tagsets[\"Mecab-기호\"] = list(mecab.tagset.keys()) + list(\"*\" * (N - len(mecab.tagset)))\n",
        "tagsets[\"Mecab-품사\"] = list(mecab.tagset.values()) + list(\"*\" * (N - len(mecab.tagset)))\n",
        "tagsets"
      ],
      "execution_count": 15,
      "outputs": [
        {
          "output_type": "execute_result",
          "data": {
            "text/html": [
              "<div>\n",
              "<style scoped>\n",
              "    .dataframe tbody tr th:only-of-type {\n",
              "        vertical-align: middle;\n",
              "    }\n",
              "\n",
              "    .dataframe tbody tr th {\n",
              "        vertical-align: top;\n",
              "    }\n",
              "\n",
              "    .dataframe thead th {\n",
              "        text-align: right;\n",
              "    }\n",
              "</style>\n",
              "<table border=\"1\" class=\"dataframe\">\n",
              "  <thead>\n",
              "    <tr style=\"text-align: right;\">\n",
              "      <th></th>\n",
              "      <th>Mecab-기호</th>\n",
              "      <th>Mecab-품사</th>\n",
              "    </tr>\n",
              "  </thead>\n",
              "  <tbody>\n",
              "    <tr>\n",
              "      <th>0</th>\n",
              "      <td>EC</td>\n",
              "      <td>연결 어미</td>\n",
              "    </tr>\n",
              "    <tr>\n",
              "      <th>1</th>\n",
              "      <td>EF</td>\n",
              "      <td>종결 어미</td>\n",
              "    </tr>\n",
              "    <tr>\n",
              "      <th>2</th>\n",
              "      <td>EP</td>\n",
              "      <td>선어말어미</td>\n",
              "    </tr>\n",
              "    <tr>\n",
              "      <th>3</th>\n",
              "      <td>ETM</td>\n",
              "      <td>관형형 전성 어미</td>\n",
              "    </tr>\n",
              "    <tr>\n",
              "      <th>4</th>\n",
              "      <td>ETN</td>\n",
              "      <td>명사형 전성 어미</td>\n",
              "    </tr>\n",
              "    <tr>\n",
              "      <th>5</th>\n",
              "      <td>IC</td>\n",
              "      <td>감탄사</td>\n",
              "    </tr>\n",
              "    <tr>\n",
              "      <th>6</th>\n",
              "      <td>JC</td>\n",
              "      <td>접속 조사</td>\n",
              "    </tr>\n",
              "    <tr>\n",
              "      <th>7</th>\n",
              "      <td>JKB</td>\n",
              "      <td>부사격 조사</td>\n",
              "    </tr>\n",
              "    <tr>\n",
              "      <th>8</th>\n",
              "      <td>JKC</td>\n",
              "      <td>보격 조사</td>\n",
              "    </tr>\n",
              "    <tr>\n",
              "      <th>9</th>\n",
              "      <td>JKG</td>\n",
              "      <td>관형격 조사</td>\n",
              "    </tr>\n",
              "    <tr>\n",
              "      <th>10</th>\n",
              "      <td>JKO</td>\n",
              "      <td>목적격 조사</td>\n",
              "    </tr>\n",
              "    <tr>\n",
              "      <th>11</th>\n",
              "      <td>JKQ</td>\n",
              "      <td>인용격 조사</td>\n",
              "    </tr>\n",
              "    <tr>\n",
              "      <th>12</th>\n",
              "      <td>JKS</td>\n",
              "      <td>주격 조사</td>\n",
              "    </tr>\n",
              "    <tr>\n",
              "      <th>13</th>\n",
              "      <td>JKV</td>\n",
              "      <td>호격 조사</td>\n",
              "    </tr>\n",
              "    <tr>\n",
              "      <th>14</th>\n",
              "      <td>JX</td>\n",
              "      <td>보조사</td>\n",
              "    </tr>\n",
              "    <tr>\n",
              "      <th>15</th>\n",
              "      <td>MAG</td>\n",
              "      <td>일반 부사</td>\n",
              "    </tr>\n",
              "    <tr>\n",
              "      <th>16</th>\n",
              "      <td>MAJ</td>\n",
              "      <td>접속 부사</td>\n",
              "    </tr>\n",
              "    <tr>\n",
              "      <th>17</th>\n",
              "      <td>MM</td>\n",
              "      <td>관형사</td>\n",
              "    </tr>\n",
              "    <tr>\n",
              "      <th>18</th>\n",
              "      <td>NNB</td>\n",
              "      <td>의존 명사</td>\n",
              "    </tr>\n",
              "    <tr>\n",
              "      <th>19</th>\n",
              "      <td>NNBC</td>\n",
              "      <td>단위를 나타내는 명사</td>\n",
              "    </tr>\n",
              "    <tr>\n",
              "      <th>20</th>\n",
              "      <td>NNG</td>\n",
              "      <td>일반 명사</td>\n",
              "    </tr>\n",
              "    <tr>\n",
              "      <th>21</th>\n",
              "      <td>NNP</td>\n",
              "      <td>고유 명사</td>\n",
              "    </tr>\n",
              "    <tr>\n",
              "      <th>22</th>\n",
              "      <td>NP</td>\n",
              "      <td>대명사</td>\n",
              "    </tr>\n",
              "    <tr>\n",
              "      <th>23</th>\n",
              "      <td>NR</td>\n",
              "      <td>수사</td>\n",
              "    </tr>\n",
              "    <tr>\n",
              "      <th>24</th>\n",
              "      <td>SC</td>\n",
              "      <td>구분자 , · / :</td>\n",
              "    </tr>\n",
              "    <tr>\n",
              "      <th>25</th>\n",
              "      <td>SE</td>\n",
              "      <td>줄임표 …</td>\n",
              "    </tr>\n",
              "    <tr>\n",
              "      <th>26</th>\n",
              "      <td>SF</td>\n",
              "      <td>마침표, 물음표, 느낌표</td>\n",
              "    </tr>\n",
              "    <tr>\n",
              "      <th>27</th>\n",
              "      <td>SH</td>\n",
              "      <td>한자</td>\n",
              "    </tr>\n",
              "    <tr>\n",
              "      <th>28</th>\n",
              "      <td>SL</td>\n",
              "      <td>외국어</td>\n",
              "    </tr>\n",
              "    <tr>\n",
              "      <th>29</th>\n",
              "      <td>SN</td>\n",
              "      <td>숫자</td>\n",
              "    </tr>\n",
              "    <tr>\n",
              "      <th>30</th>\n",
              "      <td>SSC</td>\n",
              "      <td>닫는 괄호 ), ]</td>\n",
              "    </tr>\n",
              "    <tr>\n",
              "      <th>31</th>\n",
              "      <td>SSO</td>\n",
              "      <td>여는 괄호 (, [</td>\n",
              "    </tr>\n",
              "    <tr>\n",
              "      <th>32</th>\n",
              "      <td>SY</td>\n",
              "      <td>기타 기호</td>\n",
              "    </tr>\n",
              "    <tr>\n",
              "      <th>33</th>\n",
              "      <td>VA</td>\n",
              "      <td>형용사</td>\n",
              "    </tr>\n",
              "    <tr>\n",
              "      <th>34</th>\n",
              "      <td>VCN</td>\n",
              "      <td>부정 지정사</td>\n",
              "    </tr>\n",
              "    <tr>\n",
              "      <th>35</th>\n",
              "      <td>VCP</td>\n",
              "      <td>긍정 지정사</td>\n",
              "    </tr>\n",
              "    <tr>\n",
              "      <th>36</th>\n",
              "      <td>VV</td>\n",
              "      <td>동사</td>\n",
              "    </tr>\n",
              "    <tr>\n",
              "      <th>37</th>\n",
              "      <td>VX</td>\n",
              "      <td>보조 용언</td>\n",
              "    </tr>\n",
              "    <tr>\n",
              "      <th>38</th>\n",
              "      <td>XPN</td>\n",
              "      <td>체언 접두사</td>\n",
              "    </tr>\n",
              "    <tr>\n",
              "      <th>39</th>\n",
              "      <td>XR</td>\n",
              "      <td>어근</td>\n",
              "    </tr>\n",
              "    <tr>\n",
              "      <th>40</th>\n",
              "      <td>XSA</td>\n",
              "      <td>형용사 파생 접미사</td>\n",
              "    </tr>\n",
              "    <tr>\n",
              "      <th>41</th>\n",
              "      <td>XSN</td>\n",
              "      <td>명사파생 접미사</td>\n",
              "    </tr>\n",
              "    <tr>\n",
              "      <th>42</th>\n",
              "      <td>XSV</td>\n",
              "      <td>동사 파생 접미사</td>\n",
              "    </tr>\n",
              "    <tr>\n",
              "      <th>43</th>\n",
              "      <td>*</td>\n",
              "      <td>*</td>\n",
              "    </tr>\n",
              "    <tr>\n",
              "      <th>44</th>\n",
              "      <td>*</td>\n",
              "      <td>*</td>\n",
              "    </tr>\n",
              "    <tr>\n",
              "      <th>45</th>\n",
              "      <td>*</td>\n",
              "      <td>*</td>\n",
              "    </tr>\n",
              "    <tr>\n",
              "      <th>46</th>\n",
              "      <td>*</td>\n",
              "      <td>*</td>\n",
              "    </tr>\n",
              "    <tr>\n",
              "      <th>47</th>\n",
              "      <td>*</td>\n",
              "      <td>*</td>\n",
              "    </tr>\n",
              "    <tr>\n",
              "      <th>48</th>\n",
              "      <td>*</td>\n",
              "      <td>*</td>\n",
              "    </tr>\n",
              "    <tr>\n",
              "      <th>49</th>\n",
              "      <td>*</td>\n",
              "      <td>*</td>\n",
              "    </tr>\n",
              "  </tbody>\n",
              "</table>\n",
              "</div>"
            ],
            "text/plain": [
              "   Mecab-기호       Mecab-품사\n",
              "0        EC          연결 어미\n",
              "1        EF          종결 어미\n",
              "2        EP          선어말어미\n",
              "3       ETM      관형형 전성 어미\n",
              "4       ETN      명사형 전성 어미\n",
              "5        IC            감탄사\n",
              "6        JC          접속 조사\n",
              "7       JKB         부사격 조사\n",
              "8       JKC          보격 조사\n",
              "9       JKG         관형격 조사\n",
              "10      JKO         목적격 조사\n",
              "11      JKQ         인용격 조사\n",
              "12      JKS          주격 조사\n",
              "13      JKV          호격 조사\n",
              "14       JX            보조사\n",
              "15      MAG          일반 부사\n",
              "16      MAJ          접속 부사\n",
              "17       MM            관형사\n",
              "18      NNB          의존 명사\n",
              "19     NNBC    단위를 나타내는 명사\n",
              "20      NNG          일반 명사\n",
              "21      NNP          고유 명사\n",
              "22       NP            대명사\n",
              "23       NR             수사\n",
              "24       SC    구분자 , · / :\n",
              "25       SE          줄임표 …\n",
              "26       SF  마침표, 물음표, 느낌표\n",
              "27       SH             한자\n",
              "28       SL            외국어\n",
              "29       SN             숫자\n",
              "30      SSC     닫는 괄호 ), ]\n",
              "31      SSO     여는 괄호 (, [\n",
              "32       SY          기타 기호\n",
              "33       VA            형용사\n",
              "34      VCN         부정 지정사\n",
              "35      VCP         긍정 지정사\n",
              "36       VV             동사\n",
              "37       VX          보조 용언\n",
              "38      XPN         체언 접두사\n",
              "39       XR             어근\n",
              "40      XSA     형용사 파생 접미사\n",
              "41      XSN       명사파생 접미사\n",
              "42      XSV      동사 파생 접미사\n",
              "43        *              *\n",
              "44        *              *\n",
              "45        *              *\n",
              "46        *              *\n",
              "47        *              *\n",
              "48        *              *\n",
              "49        *              *"
            ]
          },
          "metadata": {
            "tags": []
          },
          "execution_count": 15
        }
      ]
    },
    {
      "cell_type": "markdown",
      "metadata": {
        "id": "gpd5tRZwYfYo",
        "colab_type": "text"
      },
      "source": [
        "## 형태소 분석"
      ]
    },
    {
      "cell_type": "code",
      "metadata": {
        "id": "Fq7Tui4NXwzK",
        "colab_type": "code",
        "colab": {
          "base_uri": "https://localhost:8080/",
          "height": 1000
        },
        "outputId": "e8a676d9-b565-498c-c0d5-68d4910f5e7d"
      },
      "source": [
        "from nltk import Text\n",
        "\n",
        "kolaw = Text(mecab.nouns(c), name=\"kolaw\")\n",
        "kolaw.plot(30)\n",
        "plt.show()"
      ],
      "execution_count": 16,
      "outputs": [
        {
          "output_type": "stream",
          "text": [
            "/usr/local/lib/python3.6/dist-packages/matplotlib/backends/backend_agg.py:211: RuntimeWarning: Glyph 51312 missing from current font.\n",
            "  font.set_text(s, 0.0, flags=flags)\n",
            "/usr/local/lib/python3.6/dist-packages/matplotlib/backends/backend_agg.py:211: RuntimeWarning: Glyph 48277 missing from current font.\n",
            "  font.set_text(s, 0.0, flags=flags)\n",
            "/usr/local/lib/python3.6/dist-packages/matplotlib/backends/backend_agg.py:211: RuntimeWarning: Glyph 47456 missing from current font.\n",
            "  font.set_text(s, 0.0, flags=flags)\n",
            "/usr/local/lib/python3.6/dist-packages/matplotlib/backends/backend_agg.py:211: RuntimeWarning: Glyph 49688 missing from current font.\n",
            "  font.set_text(s, 0.0, flags=flags)\n",
            "/usr/local/lib/python3.6/dist-packages/matplotlib/backends/backend_agg.py:211: RuntimeWarning: Glyph 45824 missing from current font.\n",
            "  font.set_text(s, 0.0, flags=flags)\n",
            "/usr/local/lib/python3.6/dist-packages/matplotlib/backends/backend_agg.py:211: RuntimeWarning: Glyph 53685 missing from current font.\n",
            "  font.set_text(s, 0.0, flags=flags)\n",
            "/usr/local/lib/python3.6/dist-packages/matplotlib/backends/backend_agg.py:211: RuntimeWarning: Glyph 47161 missing from current font.\n",
            "  font.set_text(s, 0.0, flags=flags)\n",
            "/usr/local/lib/python3.6/dist-packages/matplotlib/backends/backend_agg.py:211: RuntimeWarning: Glyph 44397 missing from current font.\n",
            "  font.set_text(s, 0.0, flags=flags)\n",
            "/usr/local/lib/python3.6/dist-packages/matplotlib/backends/backend_agg.py:211: RuntimeWarning: Glyph 44032 missing from current font.\n",
            "  font.set_text(s, 0.0, flags=flags)\n",
            "/usr/local/lib/python3.6/dist-packages/matplotlib/backends/backend_agg.py:211: RuntimeWarning: Glyph 54732 missing from current font.\n",
            "  font.set_text(s, 0.0, flags=flags)\n",
            "/usr/local/lib/python3.6/dist-packages/matplotlib/backends/backend_agg.py:211: RuntimeWarning: Glyph 48124 missing from current font.\n",
            "  font.set_text(s, 0.0, flags=flags)\n",
            "/usr/local/lib/python3.6/dist-packages/matplotlib/backends/backend_agg.py:211: RuntimeWarning: Glyph 54924 missing from current font.\n",
            "  font.set_text(s, 0.0, flags=flags)\n",
            "/usr/local/lib/python3.6/dist-packages/matplotlib/backends/backend_agg.py:211: RuntimeWarning: Glyph 46412 missing from current font.\n",
            "  font.set_text(s, 0.0, flags=flags)\n",
            "/usr/local/lib/python3.6/dist-packages/matplotlib/backends/backend_agg.py:211: RuntimeWarning: Glyph 48148 missing from current font.\n",
            "  font.set_text(s, 0.0, flags=flags)\n",
            "/usr/local/lib/python3.6/dist-packages/matplotlib/backends/backend_agg.py:211: RuntimeWarning: Glyph 54596 missing from current font.\n",
            "  font.set_text(s, 0.0, flags=flags)\n",
            "/usr/local/lib/python3.6/dist-packages/matplotlib/backends/backend_agg.py:211: RuntimeWarning: Glyph 50836 missing from current font.\n",
            "  font.set_text(s, 0.0, flags=flags)\n",
            "/usr/local/lib/python3.6/dist-packages/matplotlib/backends/backend_agg.py:211: RuntimeWarning: Glyph 50948 missing from current font.\n",
            "  font.set_text(s, 0.0, flags=flags)\n",
            "/usr/local/lib/python3.6/dist-packages/matplotlib/backends/backend_agg.py:211: RuntimeWarning: Glyph 50896 missing from current font.\n",
            "  font.set_text(s, 0.0, flags=flags)\n",
            "/usr/local/lib/python3.6/dist-packages/matplotlib/backends/backend_agg.py:211: RuntimeWarning: Glyph 44592 missing from current font.\n",
            "  font.set_text(s, 0.0, flags=flags)\n",
            "/usr/local/lib/python3.6/dist-packages/matplotlib/backends/backend_agg.py:211: RuntimeWarning: Glyph 53440 missing from current font.\n",
            "  font.set_text(s, 0.0, flags=flags)\n",
            "/usr/local/lib/python3.6/dist-packages/matplotlib/backends/backend_agg.py:211: RuntimeWarning: Glyph 51060 missing from current font.\n",
            "  font.set_text(s, 0.0, flags=flags)\n",
            "/usr/local/lib/python3.6/dist-packages/matplotlib/backends/backend_agg.py:211: RuntimeWarning: Glyph 48372 missing from current font.\n",
            "  font.set_text(s, 0.0, flags=flags)\n",
            "/usr/local/lib/python3.6/dist-packages/matplotlib/backends/backend_agg.py:211: RuntimeWarning: Glyph 51109 missing from current font.\n",
            "  font.set_text(s, 0.0, flags=flags)\n",
            "/usr/local/lib/python3.6/dist-packages/matplotlib/backends/backend_agg.py:211: RuntimeWarning: Glyph 47924 missing from current font.\n",
            "  font.set_text(s, 0.0, flags=flags)\n",
            "/usr/local/lib/python3.6/dist-packages/matplotlib/backends/backend_agg.py:211: RuntimeWarning: Glyph 51221 missing from current font.\n",
            "  font.set_text(s, 0.0, flags=flags)\n",
            "/usr/local/lib/python3.6/dist-packages/matplotlib/backends/backend_agg.py:211: RuntimeWarning: Glyph 48512 missing from current font.\n",
            "  font.set_text(s, 0.0, flags=flags)\n",
            "/usr/local/lib/python3.6/dist-packages/matplotlib/backends/backend_agg.py:211: RuntimeWarning: Glyph 49324 missing from current font.\n",
            "  font.set_text(s, 0.0, flags=flags)\n",
            "/usr/local/lib/python3.6/dist-packages/matplotlib/backends/backend_agg.py:211: RuntimeWarning: Glyph 54637 missing from current font.\n",
            "  font.set_text(s, 0.0, flags=flags)\n",
            "/usr/local/lib/python3.6/dist-packages/matplotlib/backends/backend_agg.py:211: RuntimeWarning: Glyph 51032 missing from current font.\n",
            "  font.set_text(s, 0.0, flags=flags)\n",
            "/usr/local/lib/python3.6/dist-packages/matplotlib/backends/backend_agg.py:211: RuntimeWarning: Glyph 51088 missing from current font.\n",
            "  font.set_text(s, 0.0, flags=flags)\n",
            "/usr/local/lib/python3.6/dist-packages/matplotlib/backends/backend_agg.py:211: RuntimeWarning: Glyph 50976 missing from current font.\n",
            "  font.set_text(s, 0.0, flags=flags)\n",
            "/usr/local/lib/python3.6/dist-packages/matplotlib/backends/backend_agg.py:211: RuntimeWarning: Glyph 44428 missing from current font.\n",
            "  font.set_text(s, 0.0, flags=flags)\n",
            "/usr/local/lib/python3.6/dist-packages/matplotlib/backends/backend_agg.py:211: RuntimeWarning: Glyph 47532 missing from current font.\n",
            "  font.set_text(s, 0.0, flags=flags)\n",
            "/usr/local/lib/python3.6/dist-packages/matplotlib/backends/backend_agg.py:211: RuntimeWarning: Glyph 51068 missing from current font.\n",
            "  font.set_text(s, 0.0, flags=flags)\n",
            "/usr/local/lib/python3.6/dist-packages/matplotlib/backends/backend_agg.py:211: RuntimeWarning: Glyph 49440 missing from current font.\n",
            "  font.set_text(s, 0.0, flags=flags)\n",
            "/usr/local/lib/python3.6/dist-packages/matplotlib/backends/backend_agg.py:211: RuntimeWarning: Glyph 44144 missing from current font.\n",
            "  font.set_text(s, 0.0, flags=flags)\n",
            "/usr/local/lib/python3.6/dist-packages/matplotlib/backends/backend_agg.py:211: RuntimeWarning: Glyph 44221 missing from current font.\n",
            "  font.set_text(s, 0.0, flags=flags)\n",
            "/usr/local/lib/python3.6/dist-packages/matplotlib/backends/backend_agg.py:211: RuntimeWarning: Glyph 51228 missing from current font.\n",
            "  font.set_text(s, 0.0, flags=flags)\n",
            "/usr/local/lib/python3.6/dist-packages/matplotlib/backends/backend_agg.py:211: RuntimeWarning: Glyph 51649 missing from current font.\n",
            "  font.set_text(s, 0.0, flags=flags)\n",
            "/usr/local/lib/python3.6/dist-packages/matplotlib/backends/backend_agg.py:176: RuntimeWarning: Glyph 51312 missing from current font.\n",
            "  font.load_char(ord(s), flags=flags)\n",
            "/usr/local/lib/python3.6/dist-packages/matplotlib/backends/backend_agg.py:180: RuntimeWarning: Glyph 48277 missing from current font.\n",
            "  font.set_text(s, 0, flags=flags)\n",
            "/usr/local/lib/python3.6/dist-packages/matplotlib/backends/backend_agg.py:180: RuntimeWarning: Glyph 47456 missing from current font.\n",
            "  font.set_text(s, 0, flags=flags)\n",
            "/usr/local/lib/python3.6/dist-packages/matplotlib/backends/backend_agg.py:176: RuntimeWarning: Glyph 49688 missing from current font.\n",
            "  font.load_char(ord(s), flags=flags)\n",
            "/usr/local/lib/python3.6/dist-packages/matplotlib/backends/backend_agg.py:180: RuntimeWarning: Glyph 45824 missing from current font.\n",
            "  font.set_text(s, 0, flags=flags)\n",
            "/usr/local/lib/python3.6/dist-packages/matplotlib/backends/backend_agg.py:180: RuntimeWarning: Glyph 53685 missing from current font.\n",
            "  font.set_text(s, 0, flags=flags)\n",
            "/usr/local/lib/python3.6/dist-packages/matplotlib/backends/backend_agg.py:180: RuntimeWarning: Glyph 47161 missing from current font.\n",
            "  font.set_text(s, 0, flags=flags)\n",
            "/usr/local/lib/python3.6/dist-packages/matplotlib/backends/backend_agg.py:180: RuntimeWarning: Glyph 44397 missing from current font.\n",
            "  font.set_text(s, 0, flags=flags)\n",
            "/usr/local/lib/python3.6/dist-packages/matplotlib/backends/backend_agg.py:180: RuntimeWarning: Glyph 44032 missing from current font.\n",
            "  font.set_text(s, 0, flags=flags)\n",
            "/usr/local/lib/python3.6/dist-packages/matplotlib/backends/backend_agg.py:180: RuntimeWarning: Glyph 54732 missing from current font.\n",
            "  font.set_text(s, 0, flags=flags)\n",
            "/usr/local/lib/python3.6/dist-packages/matplotlib/backends/backend_agg.py:180: RuntimeWarning: Glyph 48124 missing from current font.\n",
            "  font.set_text(s, 0, flags=flags)\n",
            "/usr/local/lib/python3.6/dist-packages/matplotlib/backends/backend_agg.py:180: RuntimeWarning: Glyph 54924 missing from current font.\n",
            "  font.set_text(s, 0, flags=flags)\n",
            "/usr/local/lib/python3.6/dist-packages/matplotlib/backends/backend_agg.py:176: RuntimeWarning: Glyph 46412 missing from current font.\n",
            "  font.load_char(ord(s), flags=flags)\n",
            "/usr/local/lib/python3.6/dist-packages/matplotlib/backends/backend_agg.py:176: RuntimeWarning: Glyph 48148 missing from current font.\n",
            "  font.load_char(ord(s), flags=flags)\n",
            "/usr/local/lib/python3.6/dist-packages/matplotlib/backends/backend_agg.py:180: RuntimeWarning: Glyph 54596 missing from current font.\n",
            "  font.set_text(s, 0, flags=flags)\n",
            "/usr/local/lib/python3.6/dist-packages/matplotlib/backends/backend_agg.py:180: RuntimeWarning: Glyph 50836 missing from current font.\n",
            "  font.set_text(s, 0, flags=flags)\n",
            "/usr/local/lib/python3.6/dist-packages/matplotlib/backends/backend_agg.py:180: RuntimeWarning: Glyph 50948 missing from current font.\n",
            "  font.set_text(s, 0, flags=flags)\n",
            "/usr/local/lib/python3.6/dist-packages/matplotlib/backends/backend_agg.py:180: RuntimeWarning: Glyph 50896 missing from current font.\n",
            "  font.set_text(s, 0, flags=flags)\n",
            "/usr/local/lib/python3.6/dist-packages/matplotlib/backends/backend_agg.py:180: RuntimeWarning: Glyph 44592 missing from current font.\n",
            "  font.set_text(s, 0, flags=flags)\n",
            "/usr/local/lib/python3.6/dist-packages/matplotlib/backends/backend_agg.py:180: RuntimeWarning: Glyph 53440 missing from current font.\n",
            "  font.set_text(s, 0, flags=flags)\n",
            "/usr/local/lib/python3.6/dist-packages/matplotlib/backends/backend_agg.py:176: RuntimeWarning: Glyph 51060 missing from current font.\n",
            "  font.load_char(ord(s), flags=flags)\n",
            "/usr/local/lib/python3.6/dist-packages/matplotlib/backends/backend_agg.py:180: RuntimeWarning: Glyph 48372 missing from current font.\n",
            "  font.set_text(s, 0, flags=flags)\n",
            "/usr/local/lib/python3.6/dist-packages/matplotlib/backends/backend_agg.py:180: RuntimeWarning: Glyph 51109 missing from current font.\n",
            "  font.set_text(s, 0, flags=flags)\n",
            "/usr/local/lib/python3.6/dist-packages/matplotlib/backends/backend_agg.py:180: RuntimeWarning: Glyph 47924 missing from current font.\n",
            "  font.set_text(s, 0, flags=flags)\n",
            "/usr/local/lib/python3.6/dist-packages/matplotlib/backends/backend_agg.py:180: RuntimeWarning: Glyph 51221 missing from current font.\n",
            "  font.set_text(s, 0, flags=flags)\n",
            "/usr/local/lib/python3.6/dist-packages/matplotlib/backends/backend_agg.py:180: RuntimeWarning: Glyph 48512 missing from current font.\n",
            "  font.set_text(s, 0, flags=flags)\n",
            "/usr/local/lib/python3.6/dist-packages/matplotlib/backends/backend_agg.py:180: RuntimeWarning: Glyph 49324 missing from current font.\n",
            "  font.set_text(s, 0, flags=flags)\n",
            "/usr/local/lib/python3.6/dist-packages/matplotlib/backends/backend_agg.py:180: RuntimeWarning: Glyph 54637 missing from current font.\n",
            "  font.set_text(s, 0, flags=flags)\n",
            "/usr/local/lib/python3.6/dist-packages/matplotlib/backends/backend_agg.py:180: RuntimeWarning: Glyph 51032 missing from current font.\n",
            "  font.set_text(s, 0, flags=flags)\n",
            "/usr/local/lib/python3.6/dist-packages/matplotlib/backends/backend_agg.py:176: RuntimeWarning: Glyph 54637 missing from current font.\n",
            "  font.load_char(ord(s), flags=flags)\n",
            "/usr/local/lib/python3.6/dist-packages/matplotlib/backends/backend_agg.py:180: RuntimeWarning: Glyph 51088 missing from current font.\n",
            "  font.set_text(s, 0, flags=flags)\n",
            "/usr/local/lib/python3.6/dist-packages/matplotlib/backends/backend_agg.py:180: RuntimeWarning: Glyph 50976 missing from current font.\n",
            "  font.set_text(s, 0, flags=flags)\n",
            "/usr/local/lib/python3.6/dist-packages/matplotlib/backends/backend_agg.py:180: RuntimeWarning: Glyph 44428 missing from current font.\n",
            "  font.set_text(s, 0, flags=flags)\n",
            "/usr/local/lib/python3.6/dist-packages/matplotlib/backends/backend_agg.py:180: RuntimeWarning: Glyph 47532 missing from current font.\n",
            "  font.set_text(s, 0, flags=flags)\n",
            "/usr/local/lib/python3.6/dist-packages/matplotlib/backends/backend_agg.py:176: RuntimeWarning: Glyph 51068 missing from current font.\n",
            "  font.load_char(ord(s), flags=flags)\n",
            "/usr/local/lib/python3.6/dist-packages/matplotlib/backends/backend_agg.py:180: RuntimeWarning: Glyph 49440 missing from current font.\n",
            "  font.set_text(s, 0, flags=flags)\n",
            "/usr/local/lib/python3.6/dist-packages/matplotlib/backends/backend_agg.py:180: RuntimeWarning: Glyph 44144 missing from current font.\n",
            "  font.set_text(s, 0, flags=flags)\n",
            "/usr/local/lib/python3.6/dist-packages/matplotlib/backends/backend_agg.py:180: RuntimeWarning: Glyph 44221 missing from current font.\n",
            "  font.set_text(s, 0, flags=flags)\n",
            "/usr/local/lib/python3.6/dist-packages/matplotlib/backends/backend_agg.py:180: RuntimeWarning: Glyph 51228 missing from current font.\n",
            "  font.set_text(s, 0, flags=flags)\n",
            "/usr/local/lib/python3.6/dist-packages/matplotlib/backends/backend_agg.py:180: RuntimeWarning: Glyph 51649 missing from current font.\n",
            "  font.set_text(s, 0, flags=flags)\n"
          ],
          "name": "stderr"
        },
        {
          "output_type": "display_data",
          "data": {
            "image/png": "[encoded data removed]",
            "text/plain": [
              "<Figure size 432x288 with 1 Axes>"
            ]
          },
          "metadata": {
            "tags": []
          }
        },
        {
          "output_type": "error",
          "ename": "NameError",
          "evalue": "ignored",
          "traceback": [
            "\u001b[0;31m---------------------------------------------------------------------------\u001b[0m",
            "\u001b[0;31mNameError\u001b[0m                                 Traceback (most recent call last)",
            "\u001b[0;32m<ipython-input-16-31793db579e6>\u001b[0m in \u001b[0;36m<module>\u001b[0;34m()\u001b[0m\n\u001b[1;32m      3\u001b[0m \u001b[0mkolaw\u001b[0m \u001b[0;34m=\u001b[0m \u001b[0mText\u001b[0m\u001b[0;34m(\u001b[0m\u001b[0mmecab\u001b[0m\u001b[0;34m.\u001b[0m\u001b[0mnouns\u001b[0m\u001b[0;34m(\u001b[0m\u001b[0mc\u001b[0m\u001b[0;34m)\u001b[0m\u001b[0;34m,\u001b[0m \u001b[0mname\u001b[0m\u001b[0;34m=\u001b[0m\u001b[0;34m\"kolaw\"\u001b[0m\u001b[0;34m)\u001b[0m\u001b[0;34m\u001b[0m\u001b[0;34m\u001b[0m\u001b[0m\n\u001b[1;32m      4\u001b[0m \u001b[0mkolaw\u001b[0m\u001b[0;34m.\u001b[0m\u001b[0mplot\u001b[0m\u001b[0;34m(\u001b[0m\u001b[0;36m30\u001b[0m\u001b[0;34m)\u001b[0m\u001b[0;34m\u001b[0m\u001b[0;34m\u001b[0m\u001b[0m\n\u001b[0;32m----> 5\u001b[0;31m \u001b[0mplt\u001b[0m\u001b[0;34m.\u001b[0m\u001b[0mshow\u001b[0m\u001b[0;34m(\u001b[0m\u001b[0;34m)\u001b[0m\u001b[0;34m\u001b[0m\u001b[0;34m\u001b[0m\u001b[0m\n\u001b[0m",
            "\u001b[0;31mNameError\u001b[0m: name 'plt' is not defined"
          ]
        }
      ]
    },
    {
      "cell_type": "code",
      "metadata": {
        "id": "zA8aUyL3W-yL",
        "colab_type": "code",
        "colab": {}
      },
      "source": [
        "from wordcloud import WordCloud\n",
        "import matplotlib.pyplot as plt\n",
        "\n",
        "font_path = '/usr/share/fonts/truetype/nanum/NanumGothic.ttf'\n",
        "wc = WordCloud(width = 1000, height = 600, background_color=\"white\", font_path=font_path)\n",
        "plt.imshow(wc.generate_from_frequencies(kolaw.vocab()))\n",
        "plt.axis(\"off\")\n",
        "plt.show()"
      ],
      "execution_count": 0,
      "outputs": []
    },
    {
      "cell_type": "markdown",
      "metadata": {
        "id": "3QASMmpv_xks",
        "colab_type": "text"
      },
      "source": [
        "## 사용자 사전 추가"
      ]
    },
    {
      "cell_type": "markdown",
      "metadata": {
        "id": "U1HpU48j__JM",
        "colab_type": "text"
      },
      "source": [
        "[사용자 사전 추가 방법](https://cromboltz.tistory.com/18)"
      ]
    }
  ]
}